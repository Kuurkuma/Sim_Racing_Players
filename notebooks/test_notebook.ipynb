{
 "cells": [
  {
   "cell_type": "code",
   "execution_count": 2,
   "metadata": {},
   "outputs": [
    {
     "name": "stderr",
     "output_type": "stream",
     "text": [
      "/var/folders/xh/_q4grmbx5wv2fs3fc3vrkwmc0000gn/T/ipykernel_20544/3571106454.py:2: DeprecationWarning: \n",
      "Pyarrow will become a required dependency of pandas in the next major release of pandas (pandas 3.0),\n",
      "(to allow more performant data types, such as the Arrow string type, and better interoperability with other libraries)\n",
      "but was not found to be installed on your system.\n",
      "If this would cause problems for you,\n",
      "please provide us feedback at https://github.com/pandas-dev/pandas/issues/54466\n",
      "        \n",
      "  import pandas as pd\n"
     ]
    }
   ],
   "source": [
    "import os\n",
    "import pandas as pd"
   ]
  },
  {
   "cell_type": "code",
   "execution_count": 5,
   "metadata": {},
   "outputs": [],
   "source": [
    "path = '/Users/macbook/Dropbox/Mac/Documents/Pro/Data_Analyst/Sim_Racing_Players/data/interim/sim_racing_games-1.0.pkl'\n",
    "df = pd.read_pickle(path)"
   ]
  },
  {
   "cell_type": "code",
   "execution_count": 6,
   "metadata": {},
   "outputs": [
    {
     "name": "stdout",
     "output_type": "stream",
     "text": [
      "<class 'pandas.core.frame.DataFrame'>\n",
      "Index: 24225 entries, 0 to 25355\n",
      "Data columns (total 8 columns):\n",
      " #   Column           Non-Null Count  Dtype        \n",
      "---  ------           --------------  -----        \n",
      " 0   game             24225 non-null  object       \n",
      " 1   datetime         24225 non-null  datetime64[s]\n",
      " 2   players          24225 non-null  int64        \n",
      " 3   average_players  24225 non-null  int64        \n",
      " 4   twitch_viewers   24225 non-null  int64        \n",
      " 5   month            24225 non-null  int64        \n",
      " 6   year             24225 non-null  int64        \n",
      " 7   weekday          24225 non-null  object       \n",
      "dtypes: datetime64[s](1), int64(5), object(2)\n",
      "memory usage: 1.7+ MB\n"
     ]
    }
   ],
   "source": [
    "df.info()"
   ]
  },
  {
   "cell_type": "code",
   "execution_count": 8,
   "metadata": {},
   "outputs": [
    {
     "data": {
      "text/html": [
       "<div>\n",
       "<style scoped>\n",
       "    .dataframe tbody tr th:only-of-type {\n",
       "        vertical-align: middle;\n",
       "    }\n",
       "\n",
       "    .dataframe tbody tr th {\n",
       "        vertical-align: top;\n",
       "    }\n",
       "\n",
       "    .dataframe thead th {\n",
       "        text-align: right;\n",
       "    }\n",
       "</style>\n",
       "<table border=\"1\" class=\"dataframe\">\n",
       "  <thead>\n",
       "    <tr style=\"text-align: right;\">\n",
       "      <th></th>\n",
       "      <th>datetime</th>\n",
       "      <th>players</th>\n",
       "      <th>average_players</th>\n",
       "      <th>twitch_viewers</th>\n",
       "      <th>month</th>\n",
       "      <th>year</th>\n",
       "    </tr>\n",
       "  </thead>\n",
       "  <tbody>\n",
       "    <tr>\n",
       "      <th>count</th>\n",
       "      <td>24225</td>\n",
       "      <td>24225.0</td>\n",
       "      <td>24225.0</td>\n",
       "      <td>24225.0</td>\n",
       "      <td>24225.0</td>\n",
       "      <td>24225.0</td>\n",
       "    </tr>\n",
       "    <tr>\n",
       "      <th>mean</th>\n",
       "      <td>2020-03-23 14:09:44</td>\n",
       "      <td>7831.0</td>\n",
       "      <td>1351.0</td>\n",
       "      <td>1476.0</td>\n",
       "      <td>7.0</td>\n",
       "      <td>2020.0</td>\n",
       "    </tr>\n",
       "    <tr>\n",
       "      <th>min</th>\n",
       "      <td>2013-01-01 00:00:00</td>\n",
       "      <td>0.0</td>\n",
       "      <td>0.0</td>\n",
       "      <td>0.0</td>\n",
       "      <td>1.0</td>\n",
       "      <td>2013.0</td>\n",
       "    </tr>\n",
       "    <tr>\n",
       "      <th>25%</th>\n",
       "      <td>2018-07-05 00:00:00</td>\n",
       "      <td>1348.0</td>\n",
       "      <td>0.0</td>\n",
       "      <td>39.0</td>\n",
       "      <td>4.0</td>\n",
       "      <td>2018.0</td>\n",
       "    </tr>\n",
       "    <tr>\n",
       "      <th>50%</th>\n",
       "      <td>2020-08-06 00:00:00</td>\n",
       "      <td>3576.0</td>\n",
       "      <td>0.0</td>\n",
       "      <td>337.0</td>\n",
       "      <td>7.0</td>\n",
       "      <td>2020.0</td>\n",
       "    </tr>\n",
       "    <tr>\n",
       "      <th>75%</th>\n",
       "      <td>2022-05-05 00:00:00</td>\n",
       "      <td>9673.0</td>\n",
       "      <td>0.0</td>\n",
       "      <td>1329.0</td>\n",
       "      <td>10.0</td>\n",
       "      <td>2022.0</td>\n",
       "    </tr>\n",
       "    <tr>\n",
       "      <th>max</th>\n",
       "      <td>2023-12-31 00:00:00</td>\n",
       "      <td>81096.0</td>\n",
       "      <td>44392.0</td>\n",
       "      <td>127965.0</td>\n",
       "      <td>12.0</td>\n",
       "      <td>2023.0</td>\n",
       "    </tr>\n",
       "    <tr>\n",
       "      <th>std</th>\n",
       "      <td>NaN</td>\n",
       "      <td>10260.0</td>\n",
       "      <td>4088.0</td>\n",
       "      <td>4308.0</td>\n",
       "      <td>3.0</td>\n",
       "      <td>3.0</td>\n",
       "    </tr>\n",
       "  </tbody>\n",
       "</table>\n",
       "</div>"
      ],
      "text/plain": [
       "                  datetime  players  average_players  twitch_viewers    month  \\\n",
       "count                24225  24225.0          24225.0         24225.0  24225.0   \n",
       "mean   2020-03-23 14:09:44   7831.0           1351.0          1476.0      7.0   \n",
       "min    2013-01-01 00:00:00      0.0              0.0             0.0      1.0   \n",
       "25%    2018-07-05 00:00:00   1348.0              0.0            39.0      4.0   \n",
       "50%    2020-08-06 00:00:00   3576.0              0.0           337.0      7.0   \n",
       "75%    2022-05-05 00:00:00   9673.0              0.0          1329.0     10.0   \n",
       "max    2023-12-31 00:00:00  81096.0          44392.0        127965.0     12.0   \n",
       "std                    NaN  10260.0           4088.0          4308.0      3.0   \n",
       "\n",
       "          year  \n",
       "count  24225.0  \n",
       "mean    2020.0  \n",
       "min     2013.0  \n",
       "25%     2018.0  \n",
       "50%     2020.0  \n",
       "75%     2022.0  \n",
       "max     2023.0  \n",
       "std        3.0  "
      ]
     },
     "execution_count": 8,
     "metadata": {},
     "output_type": "execute_result"
    }
   ],
   "source": [
    "round(df.describe())"
   ]
  }
 ],
 "metadata": {
  "kernelspec": {
   "display_name": "venv",
   "language": "python",
   "name": "python3"
  },
  "language_info": {
   "codemirror_mode": {
    "name": "ipython",
    "version": 3
   },
   "file_extension": ".py",
   "mimetype": "text/x-python",
   "name": "python",
   "nbconvert_exporter": "python",
   "pygments_lexer": "ipython3",
   "version": "3.9.6"
  }
 },
 "nbformat": 4,
 "nbformat_minor": 2
}
